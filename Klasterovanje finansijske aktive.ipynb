{
 "cells": [
  {
   "cell_type": "markdown",
   "metadata": {},
   "source": [
    "# Importovanje potrebnih biblioteka"
   ]
  },
  {
   "cell_type": "code",
   "execution_count": 1,
   "metadata": {},
   "outputs": [],
   "source": [
    "from pandas_datareader import data\n",
    "import matplotlib.pyplot as plt\n",
    "import pandas as pd\n",
    "import numpy as np\n",
    "from sklearn.cluster import KMeans\n",
    "from sklearn.cluster import DBSCAN\n",
    "from sklearn.metrics import silhouette_samples, silhouette_score\n",
    "from sklearn.preprocessing import StandardScaler"
   ]
  },
  {
   "cell_type": "markdown",
   "metadata": {},
   "source": [
    "# Generisanje portfolia (akcije+obveznice+kriptovalute)"
   ]
  },
  {
   "cell_type": "code",
   "execution_count": 2,
   "metadata": {},
   "outputs": [],
   "source": [
    "start_date = '2018-01-01'\n",
    "end_date = '2018-01-31'\n",
    "portfolio_tickers = []\n"
   ]
  },
  {
   "cell_type": "markdown",
   "metadata": {},
   "source": [
    "## Stocks (akcije)"
   ]
  },
  {
   "cell_type": "code",
   "execution_count": 9,
   "metadata": {},
   "outputs": [
    {
     "name": "stdout",
     "output_type": "stream",
     "text": [
      "Nema duplikata stock tickers-a\n",
      "Nema duplikata stock tickers-a\n"
     ]
    }
   ],
   "source": [
    "#AUTOMATSKO PRIKUPLJANJE PODATAKA O AKCIJAMA\n",
    "\n",
    "\n",
    "#MANUELNO PRIKUPLJANJE PODATAKA O AKCIJAMA\n",
    "stock_tickers = ['AAPL', 'MSFT','GOOG','HPQ','INTC','NVDA','TXN','SAP','ADBE','ADSK']\n",
    "\n",
    "#BRZE PRONALAZI DUPLIKATE AKO JE LISTA SORTIRANA\n",
    "stock_tickers.sort()\n",
    "\n",
    "#PROVERA DA LI IMA DUPLIKATA U LISTI TICKERA\n",
    "if len(stock_tickers) > len(set(stock_tickers)):\n",
    "    print(\"Postoje duplikati stock tickers-a\")\n",
    "    stock_tickers = list(set(stock_tickers))\n",
    "else:\n",
    "    print(\"Nema duplikata stock tickers-a\")\n",
    "\n",
    "#PROVERA DA LI IMA DUPLICATA U LISTI TICKERA PREKO NUMPY (VAZNO JE DA DRUGA PROVERA KAZE DA NEMA DUPLIKATA)\n",
    "\n",
    "if len(stock_tickers)>np.unique(stock_tickers).size:\n",
    "    print(\"Postoje duplikati stock tickers-a\")\n",
    "else:\n",
    "    print(\"Nema duplikata stock tickers-a\")\n",
    "    \n",
    "\n",
    "#PROVERA DA LI SE ZA DATI TIKER MOGU PRIKUPITI PODACI (AKO NE MOGU DA SE PRIKUPE PODACI IZBACI TI GA IZ LISTE TICKERA)\n",
    "for stock_ticker in stock_tickers:\n",
    "    try:\n",
    "        stock = data.DataReader(stock_ticker, 'yahoo', start_date, end_date)\n",
    "        portfolio_tickers.append(stock_ticker)\n",
    "    except:\n",
    "        print (\"Nije moguce prikupiti podatke o tikeru:\"+stock_ticker)\n",
    "        stock_tickers.remove(stock_ticker)\n",
    "\n",
    "        \n",
    "               \n",
    "#PRIKUPLJANJE PODATAKA PREKO BERZANSKOG API-JA  (BRZE KUPI SVE ODJEDNOM PODATKE NEGO DA IDE POJEDINACNO KROZ FOR PETLJU)      \n",
    "stocks = data.DataReader(stock_tickers, 'yahoo', start_date, end_date)\n",
    "portfolio = pd.concat([stocks], sort =False)\n",
    "\n",
    "\n",
    "\n",
    "\n"
   ]
  },
  {
   "cell_type": "markdown",
   "metadata": {},
   "source": [
    "## Bonds (obveznice)"
   ]
  },
  {
   "cell_type": "code",
   "execution_count": 10,
   "metadata": {},
   "outputs": [
    {
     "name": "stdout",
     "output_type": "stream",
     "text": [
      "Nema duplikata bond tickers-a\n",
      "Nema duplikata bond tickers-a\n"
     ]
    }
   ],
   "source": [
    "#AUTOMATSKO PRIKUPLJANJE PODATAKA O OBVEZNICAMA\n",
    "\n",
    "\n",
    "#MANUELNO PRIKUPLJANJE PODATAKA O OBVEZNICAMA\n",
    "bond_tickers = ['AGZ', 'BIL','DLBL','DLBS','DTUL','DTUS','DTYL','FLAT','EDV','DTYS']\n",
    "\n",
    "#BRZE PRONALAZI DUPLIKATE AKO JE LISTA SORTIRANA\n",
    "bond_tickers.sort()\n",
    "\n",
    "#PROVERA DA LI IMA DUPLIKATA U LISTI TICKERA\n",
    "if len(bond_tickers) > len(set(bond_tickers)):\n",
    "    print(\"Postoje duplikati bond tickers-a\")\n",
    "    bond_tickers = list(set(bond_tickers))\n",
    "else:\n",
    "    print(\"Nema duplikata bond tickers-a\")\n",
    "\n",
    "#PROVERA DA LI IMA DUPLICATA U LISTI TICKERA PREKO NUMPY (VAZNO JE DA DRUGA PROVERA KAZE DA NEMA DUPLIKATA)\n",
    "\n",
    "if len(bond_tickers)>np.unique(bond_tickers).size:\n",
    "    print(\"Postoje duplikati bond tickers-a\")\n",
    "else:\n",
    "    print(\"Nema duplikata bond tickers-a\")\n",
    "    \n",
    "\n",
    "#PROVERA DA LI SE ZA DATI TIKER MOGU PRIKUPITI PODACI (AKO NE MOGU DA SE PRIKUPE PODACI IZBACI TI GA IZ LISTE TICKERA)\n",
    "for bond_ticker in bond_tickers:\n",
    "    try:\n",
    "        bond = data.DataReader(bond_ticker, 'yahoo', start_date, end_date)\n",
    "        portfolio_tickers.append(bond_ticker)\n",
    "    except:\n",
    "        print (\"Nije moguce prikupiti podatke o tikeru:\"+bond_ticker)\n",
    "        bond_tickers.remove(bond_ticker)\n",
    "\n",
    "        \n",
    "               \n",
    "#PRIKUPLJANJE PODATAKA PREKO BERZANSKOG API-JA  (BRZE KUPI SVE ODJEDNOM PODATKE NEGO DA IDE POJEDINACNO KROZ FOR PETLJU)      \n",
    "bonds = data.DataReader(bond_tickers, 'yahoo', start_date, end_date)\n",
    "portfolio = pd.concat([bonds], sort =False)\n",
    "\n",
    "\n",
    "\n",
    "\n"
   ]
  },
  {
   "cell_type": "markdown",
   "metadata": {},
   "source": [
    "## Cryptocurrencies (kriptovalute)"
   ]
  },
  {
   "cell_type": "code",
   "execution_count": null,
   "metadata": {},
   "outputs": [],
   "source": [
    "#AUTOMATSKO PRIKUPLJANJE PODATAKA O KRIPTOVALUTAMA\n",
    "\n",
    "\n",
    "#MANUELNO PRIKUPLJANJE PODATAKA O KRIPTOVALUTAMA\n",
    "bond_tickers = ['BTC-USD', 'ETH','XMR-USD','DASH-USD','EOS','NEO','LTC','ZEC-USD','XRP-USD','BCH']\n",
    "\n",
    "#BRZE PRONALAZI DUPLIKATE AKO JE LISTA SORTIRANA\n",
    "bond_tickers.sort()\n",
    "\n",
    "#PROVERA DA LI IMA DUPLIKATA U LISTI TICKERA\n",
    "if len(bond_tickers) > len(set(bond_tickers)):\n",
    "    print(\"Postoje duplikati bond tickers-a\")\n",
    "    bond_tickers = list(set(bond_tickers))\n",
    "else:\n",
    "    print(\"Nema duplikata bond tickers-a\")\n",
    "\n",
    "#PROVERA DA LI IMA DUPLICATA U LISTI TICKERA PREKO NUMPY (VAZNO JE DA DRUGA PROVERA KAZE DA NEMA DUPLIKATA)\n",
    "\n",
    "if len(bond_tickers)>np.unique(bond_tickers).size:\n",
    "    print(\"Postoje duplikati bond tickers-a\")\n",
    "else:\n",
    "    print(\"Nema duplikata bond tickers-a\")\n",
    "    \n",
    "\n",
    "#PROVERA DA LI SE ZA DATI TIKER MOGU PRIKUPITI PODACI (AKO NE MOGU DA SE PRIKUPE PODACI IZBACI TI GA IZ LISTE TICKERA)\n",
    "for bond_ticker in bond_tickers:\n",
    "    try:\n",
    "        bond = data.DataReader(bond_ticker, 'yahoo', start_date, end_date)\n",
    "        portfolio_tickers.append(bond_ticker)\n",
    "    except:\n",
    "        print (\"Nije moguce prikupiti podatke o tikeru:\"+bond_ticker)\n",
    "        bond_tickers.remove(bond_ticker)\n",
    "\n",
    "        \n",
    "               \n",
    "#PRIKUPLJANJE PODATAKA PREKO BERZANSKOG API-JA  (BRZE KUPI SVE ODJEDNOM PODATKE NEGO DA IDE POJEDINACNO KROZ FOR PETLJU)      \n",
    "bonds = data.DataReader(bond_tickers, 'yahoo', start_date, end_date)\n",
    "portfolio = pd.concat([bonds], sort =False)"
   ]
  },
  {
   "cell_type": "markdown",
   "metadata": {},
   "source": [
    "# Pretprocesiranje prikupljenih podataka"
   ]
  },
  {
   "cell_type": "code",
   "execution_count": 11,
   "metadata": {},
   "outputs": [
    {
     "name": "stdout",
     "output_type": "stream",
     "text": [
      "['AAPL', 'ADBE', 'ADSK', 'GOOG', 'HPQ', 'INTC', 'MSFT', 'NVDA', 'SAP', 'TXN', 'AAPL', 'ADBE', 'ADSK', 'GOOG', 'HPQ', 'INTC', 'MSFT', 'NVDA', 'SAP', 'TXN', 'AAPL', 'ADBE', 'ADSK', 'GOOG', 'HPQ', 'INTC', 'MSFT', 'NVDA', 'SAP', 'TXN', 'AAPL', 'ADBE', 'ADSK', 'GOOG', 'HPQ', 'INTC', 'MSFT', 'NVDA', 'SAP', 'TXN', 'AAPL', 'ADBE', 'ADSK', 'GOOG', 'HPQ', 'INTC', 'MSFT', 'NVDA', 'SAP', 'TXN', 'AAPL', 'ADBE', 'ADSK', 'GOOG', 'HPQ', 'INTC', 'MSFT', 'NVDA', 'SAP', 'TXN', 'AAPL', 'ADBE', 'ADSK', 'GOOG', 'HPQ', 'INTC', 'MSFT', 'NVDA', 'SAP', 'TXN', 'AGZ', 'BIL', 'DLBL', 'DLBS', 'DTUL', 'DTUS', 'DTYL', 'DTYS', 'EDV', 'FLAT']\n"
     ]
    }
   ],
   "source": [
    "print(portfolio_tickers)"
   ]
  },
  {
   "cell_type": "code",
   "execution_count": null,
   "metadata": {},
   "outputs": [],
   "source": []
  }
 ],
 "metadata": {
  "kernelspec": {
   "display_name": "Python 3",
   "language": "python",
   "name": "python3"
  },
  "language_info": {
   "codemirror_mode": {
    "name": "ipython",
    "version": 3
   },
   "file_extension": ".py",
   "mimetype": "text/x-python",
   "name": "python",
   "nbconvert_exporter": "python",
   "pygments_lexer": "ipython3",
   "version": "3.7.1"
  }
 },
 "nbformat": 4,
 "nbformat_minor": 2
}
