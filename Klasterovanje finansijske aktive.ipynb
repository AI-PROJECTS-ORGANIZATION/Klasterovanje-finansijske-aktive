{
 "cells": [
  {
   "cell_type": "markdown",
   "metadata": {},
   "source": [
    "# Importovanje potrebnih biblioteka"
   ]
  },
  {
   "cell_type": "code",
   "execution_count": 1,
   "metadata": {},
   "outputs": [],
   "source": [
    "from pandas_datareader import data\n",
    "import matplotlib.pyplot as plt\n",
    "import pandas as pd\n",
    "import numpy as np\n",
    "from sklearn.cluster import KMeans\n",
    "from sklearn.cluster import DBSCAN\n",
    "from sklearn.metrics import silhouette_samples, silhouette_score\n",
    "from sklearn.preprocessing import StandardScaler"
   ]
  },
  {
   "cell_type": "markdown",
   "metadata": {},
   "source": [
    "# Generisanje portfolia (akcije+obveznice+kriptovalute)"
   ]
  },
  {
   "cell_type": "code",
   "execution_count": 2,
   "metadata": {},
   "outputs": [],
   "source": [
    "start_date = '2018-01-01'\n",
    "end_date = '2018-01-31'\n",
    "portfolio_tickers = []\n"
   ]
  },
  {
   "cell_type": "markdown",
   "metadata": {},
   "source": [
    "## Stocks (akcije)"
   ]
  },
  {
   "cell_type": "code",
   "execution_count": 9,
   "metadata": {},
   "outputs": [
    {
     "name": "stdout",
     "output_type": "stream",
     "text": [
      "Nema duplikata stock tickers-a\n",
      "Nema duplikata stock tickers-a\n"
     ]
    }
   ],
   "source": [
    "#AUTOMATSKO PRIKUPLJANJE PODATAKA O AKCIJAMA\n",
    "\n",
    "\n",
    "#MANUELNO PRIKUPLJANJE PODATAKA O AKCIJAMA\n",
    "stock_tickers = ['AAPL', 'MSFT','GOOG','HPQ','INTC','NVDA','TXN','SAP','ADBE','ADSK']\n",
    "\n",
    "#BRZE PRONALAZI DUPLIKATE AKO JE LISTA SORTIRANA\n",
    "stock_tickers.sort()\n",
    "\n",
    "#PROVERA DA LI IMA DUPLIKATA U LISTI TICKERA\n",
    "if len(stock_tickers) > len(set(stock_tickers)):\n",
    "    print(\"Postoje duplikati stock tickers-a\")\n",
    "    stock_tickers = list(set(stock_tickers))\n",
    "else:\n",
    "    print(\"Nema duplikata stock tickers-a\")\n",
    "\n",
    "#PROVERA DA LI IMA DUPLICATA U LISTI TICKERA PREKO NUMPY (VAZNO JE DA DRUGA PROVERA KAZE DA NEMA DUPLIKATA)\n",
    "\n",
    "if len(stock_tickers)>np.unique(stock_tickers).size:\n",
    "    print(\"Postoje duplikati stock tickers-a\")\n",
    "else:\n",
    "    print(\"Nema duplikata stock tickers-a\")\n",
    "    \n",
    "\n",
    "#PROVERA DA LI SE ZA DATI TIKER MOGU PRIKUPITI PODACI (AKO NE MOGU DA SE PRIKUPE PODACI IZBACI TI GA IZ LISTE TICKERA)\n",
    "for stock_ticker in stock_tickers:\n",
    "    try:\n",
    "        stock = data.DataReader(stock_ticker, 'yahoo', start_date, end_date)\n",
    "        portfolio_tickers.append(stock_ticker)\n",
    "    except:\n",
    "        print (\"Nije moguce prikupiti podatke o tikeru:\"+stock_ticker)\n",
    "        stock_tickers.remove(stock_ticker)\n",
    "\n",
    "        \n",
    "               \n",
    "#PRIKUPLJANJE PODATAKA PREKO BERZANSKOG API-JA  (BRZE KUPI SVE ODJEDNOM PODATKE NEGO DA IDE POJEDINACNO KROZ FOR PETLJU)      \n",
    "stocks = data.DataReader(stock_tickers, 'yahoo', start_date, end_date)\n",
    "portfolio = pd.concat([stocks], sort =False)\n",
    "\n",
    "\n",
    "\n",
    "\n"
   ]
  },
  {
   "cell_type": "markdown",
   "metadata": {},
   "source": [
    "## Bonds (obveznice)"
   ]
  },
  {
   "cell_type": "code",
   "execution_count": 10,
   "metadata": {},
   "outputs": [
    {
     "name": "stdout",
     "output_type": "stream",
     "text": [
      "Nema duplikata bond tickers-a\n",
      "Nema duplikata bond tickers-a\n"
     ]
    }
   ],
   "source": [
    "#AUTOMATSKO PRIKUPLJANJE PODATAKA O OBVEZNICAMA\n",
    "\n",
    "\n",
    "#MANUELNO PRIKUPLJANJE PODATAKA O OBVEZNICAMA\n",
    "bond_tickers = ['AGZ', 'BIL','DLBL','DLBS','DTUL','DTUS','DTYL','FLAT','EDV','DTYS']\n",
    "\n",
    "#BRZE PRONALAZI DUPLIKATE AKO JE LISTA SORTIRANA\n",
    "bond_tickers.sort()\n",
    "\n",
    "#PROVERA DA LI IMA DUPLIKATA U LISTI TICKERA\n",
    "if len(bond_tickers) > len(set(bond_tickers)):\n",
    "    print(\"Postoje duplikati bond tickers-a\")\n",
    "    bond_tickers = list(set(bond_tickers))\n",
    "else:\n",
    "    print(\"Nema duplikata bond tickers-a\")\n",
    "\n",
    "#PROVERA DA LI IMA DUPLICATA U LISTI TICKERA PREKO NUMPY (VAZNO JE DA DRUGA PROVERA KAZE DA NEMA DUPLIKATA)\n",
    "\n",
    "if len(bond_tickers)>np.unique(bond_tickers).size:\n",
    "    print(\"Postoje duplikati bond tickers-a\")\n",
    "else:\n",
    "    print(\"Nema duplikata bond tickers-a\")\n",
    "    \n",
    "\n",
    "#PROVERA DA LI SE ZA DATI TIKER MOGU PRIKUPITI PODACI (AKO NE MOGU DA SE PRIKUPE PODACI IZBACI TI GA IZ LISTE TICKERA)\n",
    "for bond_ticker in bond_tickers:\n",
    "    try:\n",
    "        bond = data.DataReader(bond_ticker, 'yahoo', start_date, end_date)\n",
    "        portfolio_tickers.append(bond_ticker)\n",
    "    except:\n",
    "        print (\"Nije moguce prikupiti podatke o tikeru:\"+bond_ticker)\n",
    "        bond_tickers.remove(bond_ticker)\n",
    "\n",
    "        \n",
    "               \n",
    "#PRIKUPLJANJE PODATAKA PREKO BERZANSKOG API-JA  (BRZE KUPI SVE ODJEDNOM PODATKE NEGO DA IDE POJEDINACNO KROZ FOR PETLJU)      \n",
    "bonds = data.DataReader(bond_tickers, 'yahoo', start_date, end_date)\n",
    "portfolio = pd.concat([bonds], sort =False)\n",
    "\n",
    "\n",
    "\n",
    "\n"
   ]
  },
  {
   "cell_type": "markdown",
   "metadata": {},
   "source": [
    "## Cryptocurrencies (kriptovalute)"
   ]
  },
  {
   "cell_type": "code",
   "execution_count": 12,
   "metadata": {},
   "outputs": [
    {
     "name": "stdout",
     "output_type": "stream",
     "text": [
      "Nema duplikata cryptocurrency tickers-a\n",
      "Nema duplikata cryptocurrency tickers-a\n"
     ]
    }
   ],
   "source": [
    "#AUTOMATSKO PRIKUPLJANJE PODATAKA O KRIPTOVALUTAMA\n",
    "\n",
    "\n",
    "#MANUELNO PRIKUPLJANJE PODATAKA O KRIPTOVALUTAMA\n",
    "cryptocurrency_tickers = ['BTC-USD', 'ETH','XMR-USD','DASH-USD','EOS','NEO','LTC','ZEC-USD','XRP-USD','BCH']\n",
    "\n",
    "#BRZE PRONALAZI DUPLIKATE AKO JE LISTA SORTIRANA\n",
    "cryptocurrency_tickers.sort()\n",
    "\n",
    "#PROVERA DA LI IMA DUPLIKATA U LISTI TICKERA\n",
    "if len(cryptocurrency_tickers) > len(set(cryptocurrency_tickers)):\n",
    "    print(\"Postoje duplikati cryptocurrency tickers-a\")\n",
    "    cryptocurrency_tickers = list(set(cryptocurrency_tickers))\n",
    "else:\n",
    "    print(\"Nema duplikata cryptocurrency tickers-a\")\n",
    "\n",
    "#PROVERA DA LI IMA DUPLICATA U LISTI TICKERA PREKO NUMPY (VAZNO JE DA DRUGA PROVERA KAZE DA NEMA DUPLIKATA)\n",
    "\n",
    "if len(cryptocurrency_tickers)>np.unique(cryptocurrency_tickers).size:\n",
    "    print(\"Postoje duplikati cryptocurrency tickers-a\")\n",
    "else:\n",
    "    print(\"Nema duplikata cryptocurrency tickers-a\")\n",
    "    \n",
    "\n",
    "#PROVERA DA LI SE ZA DATI TIKER MOGU PRIKUPITI PODACI (AKO NE MOGU DA SE PRIKUPE PODACI IZBACI TI GA IZ LISTE TICKERA)\n",
    "for cryptocurrency_ticker in cryptocurrency_tickers:\n",
    "    try:\n",
    "        cryptocurrency = data.DataReader(cryptocurrency_ticker, 'yahoo', start_date, end_date)\n",
    "        portfolio_tickers.append(cryptocurrency_ticker)\n",
    "    except:\n",
    "        print (\"Nije moguce prikupiti podatke o tikeru:\"+cryptocurrency_ticker)\n",
    "        cryptocurrency_tickers.remove(cryptocurrency_ticker)\n",
    "\n",
    "        \n",
    "               \n",
    "#PRIKUPLJANJE PODATAKA PREKO BERZANSKOG API-JA  (BRZE KUPI SVE ODJEDNOM PODATKE NEGO DA IDE POJEDINACNO KROZ FOR PETLJU)      \n",
    "cryptocurrencies = data.DataReader(cryptocurrency_tickers, 'yahoo', start_date, end_date)\n",
    "portfolio = pd.concat([cryptocurrencies], sort =False)"
   ]
  },
  {
   "cell_type": "markdown",
   "metadata": {},
   "source": [
    "# Pretprocesiranje prikupljenih podataka"
   ]
  },
  {
   "cell_type": "code",
   "execution_count": 18,
   "metadata": {},
   "outputs": [
    {
     "name": "stdout",
     "output_type": "stream",
     "text": [
      "Nema duplikata portfolio tickers-a\n",
      "Nema duplikata portfolio tickers-a\n"
     ]
    }
   ],
   "source": [
    "#GORNJE CELIJE MOGU DA SE POKRENU VISE PUTA NEZAVISNO OD OSTATKA PROGRAMA (NIJE LINIJSKO IZVRSAVANJE PROGRAMA)\n",
    "#STO DOVODI DA SE DODAJU ISTI TICKERI VISE PUTA\n",
    "#BRZE PRONALAZI DUPLIKATE AKO JE LISTA SORTIRANA\n",
    "portfolio_tickers.sort()\n",
    "\n",
    "#PROVERA DA LI IMA DUPLIKATA U LISTI TICKERA\n",
    "if len(portfolio_tickers) > len(set(portfolio_tickers)):\n",
    "    print(\"Postoje duplikati portfolio tickers-a\")\n",
    "    portfolio_tickers = list(set(portfolio_tickers))\n",
    "else:\n",
    "    print(\"Nema duplikata portfolio tickers-a\")\n",
    "\n",
    "#PROVERA DA LI IMA DUPLICATA U LISTI TICKERA PREKO NUMPY (VAZNO JE DA DRUGA PROVERA KAZE DA NEMA DUPLIKATA)\n",
    "\n",
    "if len(portfolio_tickers)>np.unique(portfolio_tickers).size:\n",
    "    print(\"Postoje duplikati portfolio tickers-a\")\n",
    "else:\n",
    "    print(\"Nema duplikata portfolio tickers-a\")\n",
    "\n"
   ]
  },
  {
   "cell_type": "markdown",
   "metadata": {},
   "source": [
    "## 3D Finansijski podaci (time series, features, financial asset) i MultiIndex"
   ]
  },
  {
   "cell_type": "code",
   "execution_count": 21,
   "metadata": {},
   "outputs": [
    {
     "name": "stdout",
     "output_type": "stream",
     "text": [
      "Attributes       High                                                   \\\n",
      "Symbols           BCH       BTC-USD     DASH-USD        EOS        ETH   \n",
      "Date                                                                     \n",
      "2018-01-01        NaN  13921.530273  1039.099976        NaN        NaN   \n",
      "2018-01-02  33.633335  15306.129883  1194.939941  15.310000  28.950001   \n",
      "2018-01-03  33.596668  15435.009766  1167.500000  15.460000  29.000000   \n",
      "2018-01-04  33.303333  15408.660156  1200.170044  15.600000  29.400000   \n",
      "2018-01-05  33.906666  17126.949219  1160.729980  15.630000  29.200001   \n",
      "2018-01-06        NaN  17252.849609  1184.640015        NaN        NaN   \n",
      "2018-01-07        NaN  17184.810547  1250.050049        NaN        NaN   \n",
      "2018-01-08  33.849998  16302.919922  1186.810059  15.660000  29.049999   \n",
      "2018-01-09  33.816666  15390.280273  1133.199951  15.870000  28.250000   \n",
      "2018-01-10  33.756668  14919.490234  1111.829956  15.820000  27.650000   \n",
      "2018-01-11  34.413334  14979.959961  1108.020020  15.920000  28.350000   \n",
      "2018-01-12  34.526669  14129.080078  1065.300049  16.020000  28.850000   \n",
      "2018-01-13        NaN  14595.040039  1131.989990        NaN        NaN   \n",
      "2018-01-14        NaN  14415.669922  1112.109985        NaN        NaN   \n",
      "2018-01-15        NaN  14355.820312  1036.290039        NaN        NaN   \n",
      "2018-01-16  34.630001  13648.839844   936.340027  16.250000  29.000000   \n",
      "2018-01-17  34.919998  11736.299805   829.119995  16.180000  26.549999   \n",
      "2018-01-18  34.506668  12018.429688   889.030029  16.170000  26.950001   \n",
      "2018-01-19  34.713333  11780.490234   863.590027  16.200001  27.450001   \n",
      "2018-01-20        NaN  13031.040039   960.539978        NaN        NaN   \n",
      "2018-01-21        NaN  12787.349609   930.070007        NaN        NaN   \n",
      "2018-01-22  35.000000  11913.740234   843.979980  16.290001  27.400000   \n",
      "2018-01-23  34.623333  11388.519531   798.840027  16.360001  27.450001   \n",
      "2018-01-24  34.666668  11531.599609   795.429993  16.430000  27.200001   \n",
      "2018-01-25  35.500000  11741.919922   826.309998  16.350000  26.850000   \n",
      "2018-01-26  35.090000  11656.540039   817.590027  16.420000  26.400000   \n",
      "2018-01-27        NaN  11638.690430   790.609985        NaN        NaN   \n",
      "2018-01-28        NaN  12064.190430   822.320007        NaN        NaN   \n",
      "2018-01-29  35.346668  11860.290039   825.559998  16.459999  25.900000   \n",
      "2018-01-30  34.570000  11263.700195   783.190002  16.280001  25.049999   \n",
      "2018-01-31  34.796665  10377.959961   702.169983  16.350000  25.280001   \n",
      "2018-02-01        NaN  10280.839844   705.960022        NaN        NaN   \n",
      "\n",
      "Attributes                                                   ...  Adj Close  \\\n",
      "Symbols           LTC   NEO     XMR-USD XRP-USD     ZEC-USD  ...        BCH   \n",
      "Date                                                         ...              \n",
      "2018-01-01        NaN   NaN  344.890015    2.09  555.840027  ...        NaN   \n",
      "2018-01-02  44.070000  8.94  370.299988    2.21  566.119995  ...  31.470953   \n",
      "2018-01-03  44.020000  8.79  389.899994    2.85  567.869995  ...  30.850269   \n",
      "2018-01-04  43.730000  8.62  389.200012    3.29  561.840027  ...  30.918890   \n",
      "2018-01-05  42.930000  8.73  377.320007    3.05  556.299988  ...  31.480310   \n",
      "2018-01-06        NaN   NaN  394.549988    2.85  662.969971  ...        NaN   \n",
      "2018-01-07        NaN   NaN  420.299988    2.82  799.469971  ...        NaN   \n",
      "2018-01-08  43.150002  8.83  405.700012    2.78  761.450012  ...  31.380503   \n",
      "2018-01-09  42.799999  8.58  448.140015    2.50  724.799988  ...  31.318123   \n",
      "2018-01-10  42.060001  8.51  416.989990    2.13  725.599976  ...  31.018698   \n",
      "2018-01-11  41.380001  8.70  416.750000    2.24  730.179993  ...  32.147781   \n",
      "2018-01-12  41.169998  8.55  392.489990    2.16  716.880005  ...  32.035500   \n",
      "2018-01-13        NaN   NaN  430.179993    2.10  722.859985  ...        NaN   \n",
      "2018-01-14        NaN   NaN  435.519989    2.00  717.429993  ...        NaN   \n",
      "2018-01-15        NaN   NaN  444.720001    1.88  687.799988  ...        NaN   \n",
      "2018-01-16  41.189999  8.40  417.730011    1.68  694.559998  ...  31.857714   \n",
      "2018-01-17  41.209999  8.00  327.309998    1.38  532.200012  ...  32.313087   \n",
      "2018-01-18  41.150002  8.11  345.730011    1.73  539.909973  ...  31.801571   \n",
      "2018-01-19  41.040001  8.15  366.010010    1.68  553.359985  ...  32.200806   \n",
      "2018-01-20        NaN   NaN  406.950012    1.63  565.320007  ...        NaN   \n",
      "2018-01-21        NaN   NaN  388.309998    1.57  565.140015  ...        NaN   \n",
      "2018-01-22  41.160000  8.13  355.910004    1.42  507.029999  ...  32.550137   \n",
      "2018-01-23  41.590000  7.80  321.480011    1.44  469.359985  ...  31.979357   \n",
      "2018-01-24  41.639999  8.01  324.369995    1.42  466.250000  ...  32.434731   \n",
      "2018-01-25  41.570000  7.95  326.450012    1.38  477.350006  ...  32.250710   \n",
      "2018-01-26  41.880001  7.93  328.779999    1.32  493.959991  ...  32.699848   \n",
      "2018-01-27        NaN   NaN  333.959991    1.24  466.010010  ...        NaN   \n",
      "2018-01-28        NaN   NaN  339.429993    1.39  482.179993  ...        NaN   \n",
      "2018-01-29  40.820000  7.99  338.019989    1.37  480.630005  ...  32.749756   \n",
      "2018-01-30  40.619999  7.93  315.910004    1.27  450.630005  ...  32.288139   \n",
      "2018-01-31  41.020000  7.81  283.339996    1.15  399.970001  ...  31.673691   \n",
      "2018-02-01        NaN   NaN  277.739990    1.14  414.540009  ...        NaN   \n",
      "\n",
      "Attributes                                                                    \\\n",
      "Symbols          BTC-USD     DASH-USD        EOS        ETH        LTC   NEO   \n",
      "Date                                                                           \n",
      "2018-01-01  13444.879883  1019.419983        NaN        NaN        NaN   NaN   \n",
      "2018-01-02  14754.129883  1162.469971  13.827481  25.571608  40.357018  8.72   \n",
      "2018-01-03  15156.620117  1129.890015  13.881778  25.794357  40.218590  8.57   \n",
      "2018-01-04  15180.080078  1120.119995  14.089914  25.571608  39.443382  8.58   \n",
      "2018-01-05  16954.779297  1080.880005  14.071815  25.437958  39.304947  8.73   \n",
      "2018-01-06  17172.300781  1160.349976        NaN        NaN        NaN   NaN   \n",
      "2018-01-07  16228.160156  1161.979980        NaN        NaN        NaN   NaN   \n",
      "2018-01-08  14976.169922  1080.359985  14.117064  25.482510  39.461834  8.41   \n",
      "2018-01-09  14468.500000  1107.160034  14.216604  25.165112  38.834282  8.45   \n",
      "2018-01-10  14919.490234  1098.329956  14.234704  24.666346  38.022179  8.48   \n",
      "2018-01-11  13308.059570  1000.419983  14.334247  25.618536  37.874508  8.51   \n",
      "2018-01-12  13841.190430  1049.489990  14.469989  25.981276  37.274639  8.30   \n",
      "2018-01-13  14243.120117  1098.150024        NaN        NaN        NaN   NaN   \n",
      "2018-01-14  13638.629883   999.609985        NaN        NaN        NaN   NaN   \n",
      "2018-01-15  13631.980469   934.659973        NaN        NaN        NaN   NaN   \n",
      "2018-01-16  11282.490234   743.429993  14.506186  25.527851  37.403839  7.97   \n",
      "2018-01-17  11162.700195   794.789978  14.578580  23.668808  38.031391  7.93   \n",
      "2018-01-18  11175.519531   821.159973  14.542382  24.212919  37.551502  8.00   \n",
      "2018-01-19  11521.759766   843.869995  14.660028  24.847713  37.874508  7.99   \n",
      "2018-01-20  12783.940430   925.099976        NaN        NaN        NaN   NaN   \n",
      "2018-01-21  11549.929688   818.960022        NaN        NaN        NaN   NaN   \n",
      "2018-01-22  10814.519531   762.380005  14.741469  24.802372  37.967224  7.83   \n",
      "2018-01-23  10858.230469   759.580017  14.885229  24.530313  38.560600  7.72   \n",
      "2018-01-24  11429.019531   787.919983  14.867030  24.439631  38.263920  7.82   \n",
      "2018-01-25  11175.870117   794.150024  14.848833  22.716612  38.542065  7.86   \n",
      "2018-01-26  11104.200195   782.760010  14.939818  23.487436  37.995033  7.83   \n",
      "2018-01-27  11459.709961   779.150024        NaN        NaN        NaN   NaN   \n",
      "2018-01-28  11767.740234   821.250000        NaN        NaN        NaN   NaN   \n",
      "2018-01-29  11233.950195   770.750000  14.830634  22.625931  37.633438  7.84   \n",
      "2018-01-30  10107.259766   682.200012  14.685059  22.580585  37.169857  7.75   \n",
      "2018-01-31  10226.860352   701.950012  14.694156  22.535242  37.995033  7.72   \n",
      "2018-02-01   9114.719727   619.609985        NaN        NaN        NaN   NaN   \n",
      "\n",
      "Attributes                                  \n",
      "Symbols        XMR-USD XRP-USD     ZEC-USD  \n",
      "Date                                        \n",
      "2018-01-01  338.170013  2.0500  518.489990  \n",
      "2018-01-02  364.440002  2.1900  549.200012  \n",
      "2018-01-03  385.820007  2.7300  559.080017  \n",
      "2018-01-04  372.230011  2.7300  546.950012  \n",
      "2018-01-05  357.299988  2.5100  545.659973  \n",
      "2018-01-06  393.160004  2.6500  657.520020  \n",
      "2018-01-07  400.049988  2.7800  757.169983  \n",
      "2018-01-08  401.359985  2.4100  692.640015  \n",
      "2018-01-09  410.690002  2.0600  668.820007  \n",
      "2018-01-10  403.519989  1.9500  716.799988  \n",
      "2018-01-11  352.950012  1.9300  645.229980  \n",
      "2018-01-12  389.399994  2.0200  700.049988  \n",
      "2018-01-13  416.290009  2.0000  699.640015  \n",
      "2018-01-14  394.459991  1.8300  668.409973  \n",
      "2018-01-15  412.820007  1.6600  625.489990  \n",
      "2018-01-16  313.109985  1.1500  506.329987  \n",
      "2018-01-17  319.170013  1.3100  496.029999  \n",
      "2018-01-18  308.459991  1.5700  483.029999  \n",
      "2018-01-19  363.209991  1.5400  525.630005  \n",
      "2018-01-20  383.119995  1.5700  559.960022  \n",
      "2018-01-21  346.109985  1.3700  489.029999  \n",
      "2018-01-22  314.279999  1.3400  445.709991  \n",
      "2018-01-23  307.089996  1.3400  442.040009  \n",
      "2018-01-24  319.329987  1.3600  457.959991  \n",
      "2018-01-25  316.250000  1.3000  473.989990  \n",
      "2018-01-26  322.540009  1.2100  456.940002  \n",
      "2018-01-27  323.529999  1.2200  454.829987  \n",
      "2018-01-28  333.929993  1.3600  476.170013  \n",
      "2018-01-29  314.869995  1.2700  449.450012  \n",
      "2018-01-30  275.209991  1.1100  384.540009  \n",
      "2018-01-31  273.940002  1.1400  399.850006  \n",
      "2018-02-01  241.750000  0.9503  402.730011  \n",
      "\n",
      "[32 rows x 60 columns]\n",
      "secenje\n",
      "Attributes                   High          Low          Open         Close  \\\n",
      "Date       Symbols                                                           \n",
      "2018-01-30 BCH          34.570000    34.023335     34.320000     34.506668   \n",
      "           BTC-USD   11263.700195  9871.209961  11234.320312  10107.259766   \n",
      "           DASH-USD    783.190002   676.229980    770.599976    682.200012   \n",
      "           EOS          16.280001    16.040001     16.240000     16.139999   \n",
      "           ETH          25.049999    24.450001     24.850000     24.900000   \n",
      "           LTC          40.619999    39.900002     40.380001     40.090000   \n",
      "           NEO           7.930000     7.600000      7.770000      7.750000   \n",
      "           XMR-USD     315.910004   267.839996    314.950012    275.209991   \n",
      "           XRP-USD       1.270000     1.090000      1.270000      1.110000   \n",
      "           ZEC-USD     450.630005   381.529999    449.570007    384.540009   \n",
      "\n",
      "Attributes                 Volume     Adj Close  \n",
      "Date       Symbols                               \n",
      "2018-01-30 BCH       8.910000e+04     32.288139  \n",
      "           BTC-USD   1.720894e+09  10107.259766  \n",
      "           DASH-USD  1.814951e+07    682.200012  \n",
      "           EOS       1.684000e+05     14.685059  \n",
      "           ETH       5.029000e+05     22.580585  \n",
      "           LTC       2.513000e+05     37.169857  \n",
      "           NEO       3.461000e+05      7.750000  \n",
      "           XMR-USD   2.226367e+07    275.209991  \n",
      "           XRP-USD   2.167802e+08      1.110000  \n",
      "           ZEC-USD   1.592075e+07    384.540009  \n"
     ]
    }
   ],
   "source": [
    "#KAKO IZGLEDAJU FINANSIJSKI PODACI POVUCENI SA BERZE\n",
    "print(portfolio)\n",
    "portfolio.index\n",
    "#RESETOVANJE INDEXA (KADA SE PODACI POVUKU SA BERZE ONI IMAJU DEFAULTNI MultiIndex )\n",
    "res = portfolio.stack().reset_index()\n",
    "\n",
    "#res.set_index(['Symbols'], inplace=True)\n",
    "res.set_index(['Date', 'Symbols'], inplace=True)\n",
    "res.sort_index(inplace=True)\n",
    "print(\"secenje\")\n",
    "print(res.loc[('2018-01-30')])\n",
    "isecak = res.loc[('2018-01-30')].copy()"
   ]
  },
  {
   "cell_type": "markdown",
   "metadata": {},
   "source": [
    "## Standardizacija vs Normalizacija podataka"
   ]
  },
  {
   "cell_type": "markdown",
   "metadata": {},
   "source": [
    "# Odredjivanje parametara klaster modela "
   ]
  },
  {
   "cell_type": "code",
   "execution_count": 16,
   "metadata": {},
   "outputs": [
    {
     "name": "stdout",
     "output_type": "stream",
     "text": [
      "secenje\n",
      "Attributes                   High          Low          Open         Close  \\\n",
      "Date       Symbols                                                           \n",
      "2018-01-30 BCH          34.570000    34.023335     34.320000     34.506668   \n",
      "           BTC-USD   11263.700195  9871.209961  11234.320312  10107.259766   \n",
      "           DASH-USD    783.190002   676.229980    770.599976    682.200012   \n",
      "           EOS          16.280001    16.040001     16.240000     16.139999   \n",
      "           ETH          25.049999    24.450001     24.850000     24.900000   \n",
      "           LTC          40.619999    39.900002     40.380001     40.090000   \n",
      "           NEO           7.930000     7.600000      7.770000      7.750000   \n",
      "           XMR-USD     315.910004   267.839996    314.950012    275.209991   \n",
      "           XRP-USD       1.270000     1.090000      1.270000      1.110000   \n",
      "           ZEC-USD     450.630005   381.529999    449.570007    384.540009   \n",
      "\n",
      "Attributes                 Volume     Adj Close  \n",
      "Date       Symbols                               \n",
      "2018-01-30 BCH       8.910000e+04     32.288139  \n",
      "           BTC-USD   1.720894e+09  10107.259766  \n",
      "           DASH-USD  1.814951e+07    682.200012  \n",
      "           EOS       1.684000e+05     14.685059  \n",
      "           ETH       5.029000e+05     22.580585  \n",
      "           LTC       2.513000e+05     37.169857  \n",
      "           NEO       3.461000e+05      7.750000  \n",
      "           XMR-USD   2.226367e+07    275.209991  \n",
      "           XRP-USD   2.167802e+08      1.110000  \n",
      "           ZEC-USD   1.592075e+07    384.540009  \n",
      "pretprocesiranje\n",
      "[[-0.37790942 -0.37592607 -0.37760157 -0.37542773 -0.39029398 -0.37582927]\n",
      " [ 2.99177407  2.99216384  2.99194189  2.99238073  2.97710758  2.99234266]\n",
      " [-0.15326046 -0.15604514 -0.1560902  -0.15887252 -0.354952   -0.15855671]\n",
      " [-0.38339796 -0.38208327 -0.38304097 -0.38156859 -0.3901388  -0.38171417]\n",
      " [-0.38076623 -0.37920382 -0.38045064 -0.3786397  -0.38948422 -0.37907461]\n",
      " [-0.37609392 -0.373914   -0.37577841 -0.37356095 -0.38997657 -0.37419726]\n",
      " [-0.38590367 -0.38497298 -0.38558919 -0.38437378 -0.38979106 -0.38403264]\n",
      " [-0.29348376 -0.29587112 -0.29317344 -0.29494897 -0.3469011  -0.29461787]\n",
      " [-0.38790223 -0.3872019  -0.38754473 -0.38659385  0.03374355 -0.38625246]\n",
      " [-0.25305643 -0.25694554 -0.25267274 -0.25839465 -0.35931341 -0.25806766]]\n",
      "Attributes                   High          Low          Open         Close  \\\n",
      "Date       Symbols                                                           \n",
      "2018-01-30 BCH          34.570000    34.023335     34.320000     34.506668   \n",
      "           BTC-USD   11263.700195  9871.209961  11234.320312  10107.259766   \n",
      "           DASH-USD    783.190002   676.229980    770.599976    682.200012   \n",
      "           EOS          16.280001    16.040001     16.240000     16.139999   \n",
      "           ETH          25.049999    24.450001     24.850000     24.900000   \n",
      "           LTC          40.619999    39.900002     40.380001     40.090000   \n",
      "           NEO           7.930000     7.600000      7.770000      7.750000   \n",
      "           XMR-USD     315.910004   267.839996    314.950012    275.209991   \n",
      "           XRP-USD       1.270000     1.090000      1.270000      1.110000   \n",
      "           ZEC-USD     450.630005   381.529999    449.570007    384.540009   \n",
      "\n",
      "Attributes                 Volume     Adj Close  Cluster  Klaster  \n",
      "Date       Symbols                                                 \n",
      "2018-01-30 BCH       8.910000e+04     32.288139        2        1  \n",
      "           BTC-USD   1.720894e+09  10107.259766        1        0  \n",
      "           DASH-USD  1.814951e+07    682.200012        0        1  \n",
      "           EOS       1.684000e+05     14.685059        2        1  \n",
      "           ETH       5.029000e+05     22.580585        2        1  \n",
      "           LTC       2.513000e+05     37.169857        2        1  \n",
      "           NEO       3.461000e+05      7.750000        2        1  \n",
      "           XMR-USD   2.226367e+07    275.209991        0        1  \n",
      "           XRP-USD   2.167802e+08      1.110000        2        1  \n",
      "           ZEC-USD   1.592075e+07    384.540009        0        1  \n"
     ]
    }
   ],
   "source": [
    "portfolio\n",
    "#RESETOVANJE INDEXA\n",
    "res = portfolio.stack().reset_index()\n",
    "\n",
    "#res.set_index(['Symbols'], inplace=True)\n",
    "res.set_index(['Date', 'Symbols'], inplace=True)\n",
    "res.sort_index(inplace=True)\n",
    "print(\"secenje\")\n",
    "print(res.loc[('2018-01-30')])\n",
    "isecak = res.loc[('2018-01-30')].copy()\n",
    "\n",
    "scaler = StandardScaler()\n",
    "isecak_scaled = scaler.fit_transform(isecak)\n",
    "print(\"pretprocesiranje\")\n",
    "print(isecak_scaled)\n",
    "\n",
    "\n",
    "\n",
    "#print(isecak)\n",
    "cluster_model = KMeans(n_clusters=3)\n",
    "prediction = cluster_model.fit_predict(isecak_scaled)\n",
    "isecak[\"Cluster\"] = prediction\n",
    "\n",
    "# cluster the data into five clusters\n",
    "#za min_samples = 1 svaki uzorak ima svoj klaster \n",
    "dbscan = DBSCAN(eps=3, min_samples = 6)\n",
    "clusters = dbscan.fit_predict(isecak_scaled)\n",
    "isecak[\"Klaster\"] = clusters+1\n",
    "print(isecak)"
   ]
  },
  {
   "cell_type": "markdown",
   "metadata": {},
   "source": [
    "# Komparacija klaster modela"
   ]
  },
  {
   "cell_type": "markdown",
   "metadata": {},
   "source": [
    "# Vizuelizacija klastera dobijenih K-means modelom \n",
    "# (Parallel Coordinates tehnika)"
   ]
  },
  {
   "cell_type": "markdown",
   "metadata": {},
   "source": [
    "# Vizuelizacija klastera dobijenih DBSCAN modelom \n",
    "# (Parallel Coordinates tehnika)"
   ]
  },
  {
   "cell_type": "code",
   "execution_count": null,
   "metadata": {},
   "outputs": [],
   "source": []
  }
 ],
 "metadata": {
  "kernelspec": {
   "display_name": "Python 3",
   "language": "python",
   "name": "python3"
  },
  "language_info": {
   "codemirror_mode": {
    "name": "ipython",
    "version": 3
   },
   "file_extension": ".py",
   "mimetype": "text/x-python",
   "name": "python",
   "nbconvert_exporter": "python",
   "pygments_lexer": "ipython3",
   "version": "3.7.1"
  }
 },
 "nbformat": 4,
 "nbformat_minor": 2
}
